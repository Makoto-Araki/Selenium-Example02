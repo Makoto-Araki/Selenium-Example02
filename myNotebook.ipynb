{
 "cells": [
  {
   "cell_type": "code",
   "execution_count": 1,
   "metadata": {},
   "outputs": [],
   "source": [
    "# ライブラリのインポート\n",
    "from selenium import webdriver\n",
    "from time import sleep\n",
    "\n",
    "# ドライバのロード\n",
    "path = 'C:\\\\Users\\\\Owner\\\\chromedriver'\n",
    "driver = webdriver.Chrome(path)\n",
    "\n",
    "# 指定サイトのオープン\n",
    "url = 'https://www.tokorozawa-library.jp/'\n",
    "driver.get(url)\n",
    "\n",
    "# 画面操作開始\n",
    "try:\n",
    "    # ユーザーとパスワード(本来はソースに直接記述は厳禁)\n",
    "    USERNAME = '利用券番号を記述'\n",
    "    PASSWORD = 'パスワードを記述'\n",
    "    \n",
    "    # 初期画面からログイン画面に遷移\n",
    "    btn1 = driver.find_element_by_xpath('//*[@id=\"contents\"]/div[3]/div[1]/div[1]/div[2]/div/div/div/div[2]/button')\n",
    "    btn1.click()\n",
    "    sleep(1)\n",
    "    \n",
    "    # ログイン画面で利用券番号を入力\n",
    "    username = driver.find_element_by_xpath('//*[@id=\"LoginCheck\"]/div[2]/div/div[2]/div[2]/input')\n",
    "    username.send_keys(USERNAME)\n",
    "    sleep(1)\n",
    "    \n",
    "    # ログイン画面でパスワードを入力\n",
    "    password = driver.find_element_by_xpath('//*[@id=\"LoginCheck\"]/div[2]/div/div[2]/div[3]/input')\n",
    "    password.send_keys(PASSWORD)\n",
    "    sleep(1)\n",
    "    \n",
    "    # ログイン画面で送信ボタンを押下して利用者ページにログイン\n",
    "    btn2 = driver.find_element_by_xpath('//*[@id=\"LoginCheck\"]/div[2]/div/div[2]/div[3]/input')\n",
    "    btn2.submit()\n",
    "    sleep(1)\n",
    "    \n",
    "    # 利用者ページからログアウトを押下して初期画面に戻る\n",
    "    btn3 = driver.find_element_by_xpath('//*[@id=\"contents\"]/nav/div/div[2]/ul[1]/li[2]/button')\n",
    "    btn3.click()\n",
    "    sleep(1)\n",
    "except Exception:\n",
    "    print('例外発生')"
   ]
  },
  {
   "cell_type": "code",
   "execution_count": null,
   "metadata": {},
   "outputs": [],
   "source": []
  }
 ],
 "metadata": {
  "kernelspec": {
   "display_name": "Python 3",
   "language": "python",
   "name": "python3"
  },
  "language_info": {
   "codemirror_mode": {
    "name": "ipython",
    "version": 3
   },
   "file_extension": ".py",
   "mimetype": "text/x-python",
   "name": "python",
   "nbconvert_exporter": "python",
   "pygments_lexer": "ipython3",
   "version": "3.8.3"
  }
 },
 "nbformat": 4,
 "nbformat_minor": 4
}
